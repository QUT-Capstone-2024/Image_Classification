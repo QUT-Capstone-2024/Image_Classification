{
 "cells": [
  {
   "cell_type": "code",
   "execution_count": 1,
   "metadata": {},
   "outputs": [],
   "source": [
    "from tensorflow.keras.models import load_model\n",
    "import tensorflow as tf\n",
    "import numpy as np\n",
    "model = load_model('mobilenetv2_house_rooms_model.h5')\n"
   ]
  },
  {
   "cell_type": "code",
   "execution_count": 2,
   "metadata": {},
   "outputs": [],
   "source": [
    "def preprocess_image(image_path):\n",
    "    IMAGE_SIZE = (128, 128)  \n",
    "    image = tf.io.read_file(image_path)\n",
    "    image = tf.image.decode_jpeg(image, channels=3)\n",
    "    image = tf.image.central_crop(image, central_fraction=0.8) \n",
    "    image = tf.image.resize(image, IMAGE_SIZE)\n",
    "    image = tf.image.convert_image_dtype(image, tf.float32)\n",
    "    image = tf.expand_dims(image, axis=0)  \n",
    "    return image\n"
   ]
  },
  {
   "cell_type": "code",
   "execution_count": 3,
   "metadata": {},
   "outputs": [],
   "source": [
    "def predict_category(image_path, model, categories):\n",
    "    image = preprocess_image(image_path)\n",
    "    predictions = model.predict(image)\n",
    "    predicted_category_index = np.argmax(predictions, axis=1)[0]\n",
    "    predicted_category = categories[predicted_category_index]\n",
    "    return predicted_category\n"
   ]
  },
  {
   "cell_type": "code",
   "execution_count": 10,
   "metadata": {},
   "outputs": [
    {
     "name": "stdout",
     "output_type": "stream",
     "text": [
      "1/1 [==============================] - 0s 25ms/step\n",
      "The predicted category for the image is: Bedroom\n"
     ]
    }
   ],
   "source": [
    "categories = ['Bathroom', 'Bedroom', 'Dinning', 'Kitchen', 'Livingroom', 'Street'] \n",
    "\n",
    "image_path = r'C:\\Users\\asuka\\Desktop\\capstone project\\Image_Classification\\pexels-pixabay-262048.jpg'\n",
    "predicted_category = predict_category(image_path, model, categories)\n",
    "\n",
    "print(f'The predicted category for the image is: {predicted_category}')\n"
   ]
  }
 ],
 "metadata": {
  "kernelspec": {
   "display_name": "Python 3",
   "language": "python",
   "name": "python3"
  },
  "language_info": {
   "codemirror_mode": {
    "name": "ipython",
    "version": 3
   },
   "file_extension": ".py",
   "mimetype": "text/x-python",
   "name": "python",
   "nbconvert_exporter": "python",
   "pygments_lexer": "ipython3",
   "version": "3.10.4"
  }
 },
 "nbformat": 4,
 "nbformat_minor": 2
}
